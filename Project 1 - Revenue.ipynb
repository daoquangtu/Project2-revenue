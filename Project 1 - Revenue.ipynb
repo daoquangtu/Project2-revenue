{
 "cells": [
  {
   "cell_type": "code",
   "execution_count": 2,
   "id": "6ae45074",
   "metadata": {},
   "outputs": [],
   "source": [
    "import pandas as pd"
   ]
  },
  {
   "cell_type": "code",
   "execution_count": 3,
   "id": "132bc9d3",
   "metadata": {},
   "outputs": [
    {
     "name": "stdout",
     "output_type": "stream",
     "text": [
      "                                        Ten_kh     Tk   Tk_du Ps_no  \\\n",
      "0                    C?ng ty TNHH FCC Vi?t Nam  51111  131114     0   \n",
      "1  C?ng ty TNHH Nidec Sankyo Vi?t Nam (H? N?i)  51122  131114     0   \n",
      "2           C?ng ty TNHH Yamaha Motor Vi?t Nam  51111  131114     0   \n",
      "3           C?ng ty TNHH Yamaha Motor Vi?t Nam  51111  131114     0   \n",
      "4                            Ihara MFG Co,.LTD  51122  131111     0   \n",
      "\n",
      "            Ps_co  \n",
      "0   99,717,420.00  \n",
      "1  154,713,600.00  \n",
      "2   25,364,200.00  \n",
      "3  201,781,350.00  \n",
      "4      190,341.00  \n",
      "Ten_kh    object\n",
      "Tk         int64\n",
      "Tk_du      int64\n",
      "Ps_no     object\n",
      "Ps_co     object\n",
      "dtype: object\n"
     ]
    }
   ],
   "source": [
    "test2 = pd.read_csv(\"test2.csv\")\n",
    "print(test2.head())\n",
    "print(test2.dtypes)"
   ]
  },
  {
   "cell_type": "code",
   "execution_count": 3,
   "id": "2b3b31c8",
   "metadata": {},
   "outputs": [
    {
     "name": "stdout",
     "output_type": "stream",
     "text": [
      "                                        Ten_kh     Tk   Tk_du Ps_no      Ps_co\n",
      "0                    C?ng ty TNHH FCC Vi?t Nam  51111  131114     0   99717420\n",
      "1  C?ng ty TNHH Nidec Sankyo Vi?t Nam (H? N?i)  51122  131114     0  154713600\n",
      "2           C?ng ty TNHH Yamaha Motor Vi?t Nam  51111  131114     0   25364200\n",
      "3           C?ng ty TNHH Yamaha Motor Vi?t Nam  51111  131114     0  201781350\n",
      "4                             Ihara MFG Co.LTD  51122  131111     0     190341\n"
     ]
    }
   ],
   "source": [
    "#cleaning data: bỏ dấu phẩy ở cột Ps_co\n",
    "test2 = test2.replace('.00','', regex=True)\n",
    "print(test2.head())"
   ]
  },
  {
   "cell_type": "code",
   "execution_count": 4,
   "id": "b4cadc92",
   "metadata": {},
   "outputs": [
    {
     "name": "stdout",
     "output_type": "stream",
     "text": [
      "Ten_kh    object\n",
      "Tk         int64\n",
      "Tk_du      int64\n",
      "Ps_no     object\n",
      "Ps_co      int32\n",
      "dtype: object\n"
     ]
    }
   ],
   "source": [
    "#cleaning data: chuyển kiểu dữ liệu từ object sang int\n",
    "test2[\"Ps_co\"] = test2[\"Ps_co\"].astype(int)\n",
    "print(test2.dtypes)"
   ]
  },
  {
   "cell_type": "code",
   "execution_count": 5,
   "id": "1a357945",
   "metadata": {},
   "outputs": [
    {
     "name": "stdout",
     "output_type": "stream",
     "text": [
      "    Ten_kh      Tk  Tk_du         Ps_no  Ps_co\n",
      "337    NaN  511121    911    7682685.00      0\n",
      "276    NaN   51111  51111             0      0\n",
      "277    NaN   51122    911   14478141.00      0\n",
      "127    NaN  511121    911    2987856.00      0\n",
      "126    NaN   51121    911  231241670.00      0\n"
     ]
    }
   ],
   "source": [
    "#sort cột Ps_co theo thứ tự tăng dần\n",
    "test2_revenue = test2.sort_values(\"Ps_co\")\n",
    "print(test2_revenue.head())"
   ]
  },
  {
   "cell_type": "code",
   "execution_count": 7,
   "id": "65a491c1",
   "metadata": {},
   "outputs": [
    {
     "name": "stdout",
     "output_type": "stream",
     "text": [
      "Ten_kh     True\n",
      "Tk        False\n",
      "Tk_du     False\n",
      "Ps_no     False\n",
      "Ps_co     False\n",
      "dtype: bool\n"
     ]
    }
   ],
   "source": [
    "#cleaining data: kiểm tra lại xem có cột nào chứa NaN\n",
    "import matplotlib.pyplot as plt\n",
    "print(test2.isna().any())\n"
   ]
  },
  {
   "cell_type": "code",
   "execution_count": 8,
   "id": "54e8d184",
   "metadata": {},
   "outputs": [
    {
     "name": "stdout",
     "output_type": "stream",
     "text": [
      "Ten_kh\n",
      "C?ng ty C? ph?n M?i tr??ng Thu?n Th?nh         2.215045e+08\n",
      "C?ng ty TNHH FCC Vi?t Nam                      3.609778e+09\n",
      "C?ng ty TNHH Nidec Sankyo Vi?t Nam (H? N?i)    5.707872e+08\n",
      "C?ng ty TNHH Yamaha Motor Vi?t Nam             2.095061e+10\n",
      "Ihara MFG Co.LTD                               2.667078e+07\n",
      "Ihara manufacturing (Thailand) Co. Ltd         2.287721e+09\n",
      "PT IHARA MANUFACTURING INDONESIA               4.376460e+09\n",
      "Name: Ps_co, dtype: float64\n"
     ]
    }
   ],
   "source": [
    "test2_sale = test2.groupby(\"Ten_kh\")[\"Ps_co\"].agg(sum)\n",
    "print(test2_sale)"
   ]
  },
  {
   "cell_type": "code",
   "execution_count": 11,
   "id": "b4238529",
   "metadata": {},
   "outputs": [
    {
     "data": {
      "image/png": "[encoded data removed]",
      "text/plain": [
       "<Figure size 432x288 with 1 Axes>"
      ]
     },
     "metadata": {
      "needs_background": "light"
     },
     "output_type": "display_data"
    }
   ],
   "source": [
    "#tạo biểu đồ xem bán cho ai nhiều nhất\n",
    "test2_sale.plot(kind = \"bar\")\n",
    "plt.show()"
   ]
  },
  {
   "cell_type": "code",
   "execution_count": null,
   "id": "76e5b8cf",
   "metadata": {},
   "outputs": [],
   "source": []
  }
 ],
 "metadata": {
  "kernelspec": {
   "display_name": "Python 3",
   "language": "python",
   "name": "python3"
  },
  "language_info": {
   "codemirror_mode": {
    "name": "ipython",
    "version": 3
   },
   "file_extension": ".py",
   "mimetype": "text/x-python",
   "name": "python",
   "nbconvert_exporter": "python",
   "pygments_lexer": "ipython3",
   "version": "3.8.8"
  }
 },
 "nbformat": 4,
 "nbformat_minor": 5
}
