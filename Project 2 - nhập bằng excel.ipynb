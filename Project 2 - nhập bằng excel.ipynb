{
 "cells": [
  {
   "cell_type": "code",
   "execution_count": 1,
   "id": "352e28a8",
   "metadata": {},
   "outputs": [
    {
     "name": "stdout",
     "output_type": "stream",
     "text": [
      "tú bê đê\n"
     ]
    }
   ],
   "source": [
    "print(\"tú bê đê\")"
   ]
  },
  {
   "cell_type": "code",
   "execution_count": 1,
   "id": "e14a00fb",
   "metadata": {},
   "outputs": [
    {
     "name": "stdout",
     "output_type": "stream",
     "text": [
      "{'Sheet1':                  Ngay_ct  month        So_ct  \\\n",
      "0    2020-03-01 00:00:00    NaN            3   \n",
      "1    2020-03-01 00:00:00    NaN            4   \n",
      "2    2020-03-01 00:00:00    NaN            5   \n",
      "3    2020-03-01 00:00:00    NaN            6   \n",
      "4    2020-03-01 00:00:00    NaN          320   \n",
      "..                   ...    ...          ...   \n",
      "333           30/06/2020    NaN  ADJ2006-006   \n",
      "334           30/06/2020    NaN  ADJ2006-006   \n",
      "335           30/06/2020    NaN  ADJ2006-006   \n",
      "336           30/06/2020    NaN  ADJ2006-006   \n",
      "337           30/06/2020    NaN  ADJ2006-006   \n",
      "\n",
      "                                          Ten_kh                Dien_giai  \\\n",
      "0                      Công ty TNHH FCC Việt Nam        SOLD OUT TO 01FCC   \n",
      "1    Công ty TNHH Nidec Sankyo Việt Nam (Hà Nội)     SOLD OUT TO 02SANKYO   \n",
      "2             Công ty TNHH Yamaha Motor Việt Nam       SOLD OUT TO 01YMVN   \n",
      "3             Công ty TNHH Yamaha Motor Việt Nam       SOLD OUT TO 01YMVN   \n",
      "4                              Ihara MFG Co,.LTD  SOLD OUT TO IMJ, IV.320   \n",
      "..                                           ...                      ...   \n",
      "333                                          NaN        Turnover transfer   \n",
      "334                                          NaN        Turnover transfer   \n",
      "335                                          NaN        Turnover transfer   \n",
      "336                                          NaN        Turnover transfer   \n",
      "337                                          NaN        Turnover transfer   \n",
      "\n",
      "         Tk   Tk_du  Ps_no_nt  Ps_co_nt Ma_nt  Ty_gia      Ps_no      Ps_co  \n",
      "0     51111  131114         0       0.0   NaN    1.00          0   99717420  \n",
      "1     51122  131114         0       0.0   NaN    1.00          0  154713600  \n",
      "2     51111  131114         0       0.0   NaN    1.00          0   25364200  \n",
      "3     51111  131114         0       0.0   NaN    1.00          0  201781350  \n",
      "4     51122  131111         0     900.0   JPY  211.49          0     190341  \n",
      "..      ...     ...       ...       ...   ...     ...        ...        ...  \n",
      "333  511122    1541         0       0.0   NaN    1.00          0          0  \n",
      "334  511123    1542         0       0.0   NaN    1.00          0          0  \n",
      "335  511124    1542         0       0.0   NaN    1.00          0          0  \n",
      "336   51121     911         0       0.0   NaN    1.00  247507140          0  \n",
      "337  511121     911         0       0.0   NaN    1.00    7682685          0  \n",
      "\n",
      "[338 rows x 13 columns]}\n"
     ]
    }
   ],
   "source": [
    "import pandas as pd\n",
    "#test2 = pd.read_csv(\"C:\\\\Users\\\\admin\\\\Desktop\\\\test2.csv\",encoding = \"UTF-8\")\n",
    "test2 = pd.read_excel(\"test2.xlsx\", sheet_name=None)\n",
    "print(test2)"
   ]
  },
  {
   "cell_type": "code",
   "execution_count": 11,
   "id": "c6b88add",
   "metadata": {},
   "outputs": [
    {
     "name": "stdout",
     "output_type": "stream",
     "text": [
      "                                        Ten_kh     Tk   Tk_du Ps_no  \\\n",
      "0                    C?ng ty TNHH FCC Vi?t Nam  51111  131114     0   \n",
      "1  C?ng ty TNHH Nidec Sankyo Vi?t Nam (H? N?i)  51122  131114     0   \n",
      "2           C?ng ty TNHH Yamaha Motor Vi?t Nam  51111  131114     0   \n",
      "3           C?ng ty TNHH Yamaha Motor Vi?t Nam  51111  131114     0   \n",
      "4                             Ihara MFG Co.LTD  51122  131111     0   \n",
      "\n",
      "          Ps_co  \n",
      "0   99717420.00  \n",
      "1  154713600.00  \n",
      "2   25364200.00  \n",
      "3  201781350.00  \n",
      "4     190341.00  \n"
     ]
    }
   ],
   "source": [
    "#cleaning data: bỏ dấu phẩy ở cột Ps_co\n",
    "test2 = test2.replace(',','', regex=True)\n",
    "print(test2.head())"
   ]
  },
  {
   "cell_type": "code",
   "execution_count": 12,
   "id": "6b6d796c",
   "metadata": {},
   "outputs": [
    {
     "name": "stdout",
     "output_type": "stream",
     "text": [
      "                                        Ten_kh     Tk   Tk_du Ps_no      Ps_co\n",
      "0                    C?ng ty TNHH FCC Vi?t Nam  51111  131114     0   99717420\n",
      "1  C?ng ty TNHH Nidec Sankyo Vi?t Nam (H? N?i)  51122  131114     0  154713600\n",
      "2           C?ng ty TNHH Yamaha Motor Vi?t Nam  51111  131114     0   25364200\n",
      "3           C?ng ty TNHH Yamaha Motor Vi?t Nam  51111  131114     0  201781350\n",
      "4                             Ihara MFG Co.LTD  51122  131111     0     190341\n"
     ]
    }
   ],
   "source": [
    "#cleaning data: bỏ dấu phẩy ở cột Ps_co\n",
    "test2 = test2.replace('\\.00','', regex=True)\n",
    "print(test2.head())"
   ]
  },
  {
   "cell_type": "code",
   "execution_count": null,
   "id": "a0b0b7c3",
   "metadata": {},
   "outputs": [],
   "source": []
  },
  {
   "cell_type": "code",
   "execution_count": null,
   "id": "21494e29",
   "metadata": {},
   "outputs": [],
   "source": []
  },
  {
   "cell_type": "code",
   "execution_count": null,
   "id": "06cfdb20",
   "metadata": {},
   "outputs": [],
   "source": []
  }
 ],
 "metadata": {
  "kernelspec": {
   "display_name": "Python 3",
   "language": "python",
   "name": "python3"
  },
  "language_info": {
   "codemirror_mode": {
    "name": "ipython",
    "version": 3
   },
   "file_extension": ".py",
   "mimetype": "text/x-python",
   "name": "python",
   "nbconvert_exporter": "python",
   "pygments_lexer": "ipython3",
   "version": "3.8.8"
  }
 },
 "nbformat": 4,
 "nbformat_minor": 5
}
