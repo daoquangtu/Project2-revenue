{
 "cells": [
  {
   "cell_type": "code",
   "execution_count": null,
   "id": "0f201048",
   "metadata": {},
   "outputs": [],
   "source": []
  },
  {
   "cell_type": "code",
   "execution_count": null,
   "id": "e14a00fb",
   "metadata": {},
   "outputs": [],
   "source": [
    "import pandas as pd\n",
    "#test2 = pd.read_csv(\"C:\\\\Users\\\\admin\\\\Desktop\\\\test2.csv\",encoding = \"UTF-8\")\n",
    "test2 = pd.read_excel(\"test2.xlsx\", sheet_name=None)\n",
    "print(test2)"
   ]
  },
  {
   "cell_type": "code",
   "execution_count": 11,
   "id": "c6b88add",
   "metadata": {},
   "outputs": [
    {
     "name": "stdout",
     "output_type": "stream",
     "text": [
      "                                        Ten_kh     Tk   Tk_du Ps_no  \\\n",
      "0                    C?ng ty TNHH FCC Vi?t Nam  51111  131114     0   \n",
      "1  C?ng ty TNHH Nidec Sankyo Vi?t Nam (H? N?i)  51122  131114     0   \n",
      "2           C?ng ty TNHH Yamaha Motor Vi?t Nam  51111  131114     0   \n",
      "3           C?ng ty TNHH Yamaha Motor Vi?t Nam  51111  131114     0   \n",
      "4                             Ihara MFG Co.LTD  51122  131111     0   \n",
      "\n",
      "          Ps_co  \n",
      "0   99717420.00  \n",
      "1  154713600.00  \n",
      "2   25364200.00  \n",
      "3  201781350.00  \n",
      "4     190341.00  \n"
     ]
    }
   ],
   "source": [
    "#cleaning data: bỏ dấu phẩy ở cột Ps_co\n",
    "test2 = test2.replace(',','', regex=True)\n",
    "print(test2.head())"
   ]
  },
  {
   "cell_type": "code",
   "execution_count": 12,
   "id": "6b6d796c",
   "metadata": {},
   "outputs": [
    {
     "name": "stdout",
     "output_type": "stream",
     "text": [
      "                                        Ten_kh     Tk   Tk_du Ps_no      Ps_co\n",
      "0                    C?ng ty TNHH FCC Vi?t Nam  51111  131114     0   99717420\n",
      "1  C?ng ty TNHH Nidec Sankyo Vi?t Nam (H? N?i)  51122  131114     0  154713600\n",
      "2           C?ng ty TNHH Yamaha Motor Vi?t Nam  51111  131114     0   25364200\n",
      "3           C?ng ty TNHH Yamaha Motor Vi?t Nam  51111  131114     0  201781350\n",
      "4                             Ihara MFG Co.LTD  51122  131111     0     190341\n"
     ]
    }
   ],
   "source": [
    "#cleaning data: bỏ dấu phẩy ở cột Ps_co\n",
    "test2 = test2.replace('\\.00','', regex=True)\n",
    "print(test2.head())"
   ]
  },
  {
   "cell_type": "code",
   "execution_count": null,
   "id": "a0b0b7c3",
   "metadata": {},
   "outputs": [],
   "source": []
  },
  {
   "cell_type": "code",
   "execution_count": null,
   "id": "21494e29",
   "metadata": {},
   "outputs": [],
   "source": []
  },
  {
   "cell_type": "code",
   "execution_count": null,
   "id": "06cfdb20",
   "metadata": {},
   "outputs": [],
   "source": []
  }
 ],
 "metadata": {
  "kernelspec": {
   "display_name": "Python 3",
   "language": "python",
   "name": "python3"
  },
  "language_info": {
   "codemirror_mode": {
    "name": "ipython",
    "version": 3
   },
   "file_extension": ".py",
   "mimetype": "text/x-python",
   "name": "python",
   "nbconvert_exporter": "python",
   "pygments_lexer": "ipython3",
   "version": "3.8.8"
  }
 },
 "nbformat": 4,
 "nbformat_minor": 5
}
