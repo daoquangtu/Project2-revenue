{
 "cells": [
  {
   "cell_type": "code",
   "execution_count": 47,
   "id": "1984dcea",
   "metadata": {},
   "outputs": [],
   "source": [
    "#I want to be an Vietnam billionaire games-selling mogul. To do this, I have to answer some questions:\n",
    "# 1. What type of games would I sell?\n",
    "# 2. Where would I sell?\n",
    "# 3. Which publisher's games would I sell? \n",
    "# In this code, I will analyse the data set from kaggle to answer these questions. "
   ]
  },
  {
   "cell_type": "code",
   "execution_count": null,
   "id": "babf5ade",
   "metadata": {},
   "outputs": [],
   "source": [
    "# TABLE OF CONTENT\n",
    "#     I.   Have a look at dataset\n",
    "#     II.  Clening data\n",
    "#     III. Analysing global sales by genre\n",
    "#     IV.  Analysing global sales by continents\n",
    "#     V.   Analysing NA sales by genre, platform\n",
    "#     VI.  Conclusion"
   ]
  },
  {
   "cell_type": "code",
   "execution_count": 84,
   "id": "10d54277",
   "metadata": {},
   "outputs": [],
   "source": [
    "import pandas as pd\n",
    "import matplotlib.pyplot as plt"
   ]
  },
  {
   "cell_type": "code",
   "execution_count": 85,
   "id": "421c5ec5",
   "metadata": {},
   "outputs": [
    {
     "name": "stdout",
     "output_type": "stream",
     "text": [
      "   Rank                      Name Platform    Year         Genre Publisher  \\\n",
      "0     1                Wii Sports      Wii  2006.0        Sports  Nintendo   \n",
      "1     2         Super Mario Bros.      NES  1985.0      Platform  Nintendo   \n",
      "2     3            Mario Kart Wii      Wii  2008.0        Racing  Nintendo   \n",
      "3     4         Wii Sports Resort      Wii  2009.0        Sports  Nintendo   \n",
      "4     5  Pokemon Red/Pokemon Blue       GB  1996.0  Role-Playing  Nintendo   \n",
      "\n",
      "   NA_Sales  EU_Sales  JP_Sales  Other_Sales  Global_Sales  \n",
      "0     41.49     29.02      3.77         8.46         82.74  \n",
      "1     29.08      3.58      6.81         0.77         40.24  \n",
      "2     15.85     12.88      3.79         3.31         35.82  \n",
      "3     15.75     11.01      3.28         2.96         33.00  \n",
      "4     11.27      8.89     10.22         1.00         31.37  \n"
     ]
    }
   ],
   "source": [
    "game_revenue = pd.read_csv(\"vgsales.csv\")\n",
    "#Inspect the dataset\n",
    "print(game_revenue.head())"
   ]
  },
  {
   "cell_type": "code",
   "execution_count": 86,
   "id": "bc918f1b",
   "metadata": {},
   "outputs": [
    {
     "data": {
      "text/plain": [
       "Rank            0\n",
       "Name            0\n",
       "Platform        0\n",
       "Year            0\n",
       "Genre           0\n",
       "Publisher       0\n",
       "NA_Sales        0\n",
       "EU_Sales        0\n",
       "JP_Sales        0\n",
       "Other_Sales     0\n",
       "Global_Sales    0\n",
       "dtype: int64"
      ]
     },
     "execution_count": 86,
     "metadata": {},
     "output_type": "execute_result"
    }
   ],
   "source": [
    "#I. Cleaning data\n",
    "#1. Check null value\n",
    "game_revenue.isna().sum()\n",
    "#2. Remove missing value\n",
    "game_revenue = game_revenue.dropna()\n",
    "game_revenue.isna().sum()"
   ]
  },
  {
   "cell_type": "code",
   "execution_count": 87,
   "id": "925808f5",
   "metadata": {},
   "outputs": [
    {
     "name": "stdout",
     "output_type": "stream",
     "text": [
      "<class 'pandas.core.frame.DataFrame'>\n",
      "Int64Index: 16291 entries, 0 to 16597\n",
      "Data columns (total 11 columns):\n",
      " #   Column        Non-Null Count  Dtype  \n",
      "---  ------        --------------  -----  \n",
      " 0   Rank          16291 non-null  int64  \n",
      " 1   Name          16291 non-null  object \n",
      " 2   Platform      16291 non-null  object \n",
      " 3   Year          16291 non-null  float64\n",
      " 4   Genre         16291 non-null  object \n",
      " 5   Publisher     16291 non-null  object \n",
      " 6   NA_Sales      16291 non-null  float64\n",
      " 7   EU_Sales      16291 non-null  float64\n",
      " 8   JP_Sales      16291 non-null  float64\n",
      " 9   Other_Sales   16291 non-null  float64\n",
      " 10  Global_Sales  16291 non-null  float64\n",
      "dtypes: float64(6), int64(1), object(4)\n",
      "memory usage: 1.5+ MB\n"
     ]
    }
   ],
   "source": [
    "#summary about the dataset\n",
    "game_revenue.info()"
   ]
  },
  {
   "cell_type": "code",
   "execution_count": 88,
   "id": "6691fb1a",
   "metadata": {},
   "outputs": [
    {
     "name": "stdout",
     "output_type": "stream",
     "text": [
      "Genre\n",
      "Action          1722.84\n",
      "Adventure        234.59\n",
      "Fighting         444.05\n",
      "Misc             789.87\n",
      "Platform         829.13\n",
      "Puzzle           242.21\n",
      "Racing           726.76\n",
      "Role-Playing     923.83\n",
      "Shooter         1026.20\n",
      "Simulation       389.98\n",
      "Sports          1309.24\n",
      "Strategy         173.27\n",
      "Name: Global_Sales, dtype: float64\n"
     ]
    }
   ],
   "source": [
    "#III. Analysing global sales by genre\n",
    "global_sales_by_genre = game_revenue.groupby(\"Genre\")[\"Global_Sales\"].agg(sum)\n",
    "print(global_sales_by_genre)"
   ]
  },
  {
   "cell_type": "code",
   "execution_count": 103,
   "id": "1c951ddd",
   "metadata": {},
   "outputs": [
    {
     "data": {
      "image/png": "[encoded data removed]",
      "text/plain": [
       "<Figure size 432x288 with 1 Axes>"
      ]
     },
     "metadata": {
      "needs_background": "light"
     },
     "output_type": "display_data"
    }
   ],
   "source": [
    "global_sales_by_genre.plot(kind=\"bar\")\n",
    "plt.xlabel(\"Genre\")\n",
    "plt.ylabel(\"Sales (millon)\")\n",
    "plt.title(\"Global sales by genre\")\n",
    "plt.show()\n",
    "#As you can see, Action game has the highest revenue - to the tune of $1750m. The next is sports game \n",
    "#and Shooter game respectively. "
   ]
  },
  {
   "cell_type": "code",
   "execution_count": 90,
   "id": "112dbe03",
   "metadata": {},
   "outputs": [
    {
     "name": "stdout",
     "output_type": "stream",
     "text": [
      "   NA_Sales  EU_Sales  JP_Sales  Other_Sales\n",
      "0     41.49     29.02      3.77         8.46\n",
      "1     29.08      3.58      6.81         0.77\n",
      "2     15.85     12.88      3.79         3.31\n",
      "3     15.75     11.01      3.28         2.96\n",
      "4     11.27      8.89     10.22         1.00\n"
     ]
    }
   ],
   "source": [
    "#IV. Analysing global sales by continents\n",
    "#Creat dataframe from 4 continents\n",
    "game_revenue_by_continents = game_revenue[[\"NA_Sales\",\"EU_Sales\",\"JP_Sales\",\"Other_Sales\"]]\n",
    "print(game_revenue_by_continents.head())\n"
   ]
  },
  {
   "cell_type": "code",
   "execution_count": 91,
   "id": "74ebb2ba",
   "metadata": {},
   "outputs": [
    {
     "name": "stdout",
     "output_type": "stream",
     "text": [
      "NA_Sales       4327.65\n",
      "EU_Sales       2406.69\n",
      "JP_Sales       1284.27\n",
      "Other_Sales     788.91\n",
      "dtype: float64\n"
     ]
    }
   ],
   "source": [
    "#Revenue by continents\n",
    "game4 = game_revenue_by_continents.sum(axis = 0)\n",
    "print(game4)"
   ]
  },
  {
   "cell_type": "code",
   "execution_count": 102,
   "id": "f7c1620f",
   "metadata": {},
   "outputs": [
    {
     "data": {
      "image/png": "[encoded data removed]",
      "text/plain": [
       "<Figure size 432x288 with 1 Axes>"
      ]
     },
     "metadata": {
      "needs_background": "light"
     },
     "output_type": "display_data"
    }
   ],
   "source": [
    "game4.plot(kind = \"barh\")\n",
    "plt.xlabel(\"Sales (millon)\")\n",
    "plt.ylabel(\"Continents\")\n",
    "plt.title(\"Global sales by continents\")\n",
    "plt.show()"
   ]
  },
  {
   "cell_type": "code",
   "execution_count": 93,
   "id": "80d3e94d",
   "metadata": {},
   "outputs": [],
   "source": [
    "#So I should focus on NA market with peak sales of $4,000m. Let see what type of games should I sell here \n",
    "#(From Global sales by genre chart, it could be action games, I guess :3) "
   ]
  },
  {
   "cell_type": "code",
   "execution_count": 94,
   "id": "2ee47926",
   "metadata": {},
   "outputs": [
    {
     "name": "stdout",
     "output_type": "stream",
     "text": [
      "Genre\n",
      "Action          861.77\n",
      "Adventure       101.93\n",
      "Fighting        220.74\n",
      "Misc            396.92\n",
      "Platform        445.99\n",
      "Puzzle          122.01\n",
      "Racing          356.93\n",
      "Role-Playing    326.50\n",
      "Shooter         575.16\n",
      "Simulation      181.78\n",
      "Sports          670.09\n",
      "Strategy         67.83\n",
      "Name: NA_Sales, dtype: float64\n"
     ]
    }
   ],
   "source": [
    "#V. Analysing NA sales by genre\n",
    "NA_sales_by_genre = game_revenue.groupby(\"Genre\")[\"NA_Sales\"].agg(sum)\n",
    "print(NA_sales_by_genre)"
   ]
  },
  {
   "cell_type": "code",
   "execution_count": 101,
   "id": "ebeb7ea2",
   "metadata": {},
   "outputs": [
    {
     "data": {
      "image/png": "[encoded data removed]",
      "text/plain": [
       "<Figure size 432x288 with 1 Axes>"
      ]
     },
     "metadata": {
      "needs_background": "light"
     },
     "output_type": "display_data"
    }
   ],
   "source": [
    "NA_sales_by_genre.plot(kind = \"barh\")\n",
    "plt.xlabel(\"Sales (millon)\")\n",
    "plt.ylabel(\"Genre\")\n",
    "plt.title(\"NA sales by Genre\")\n",
    "plt.show()"
   ]
  },
  {
   "cell_type": "code",
   "execution_count": 96,
   "id": "9bd7782b",
   "metadata": {
    "scrolled": true
   },
   "outputs": [
    {
     "name": "stdout",
     "output_type": "stream",
     "text": [
      "              Genre  NA_Sales   Publisher Platform\n",
      "0            Sports     41.49    Nintendo      Wii\n",
      "1          Platform     29.08    Nintendo      NES\n",
      "2            Racing     15.85    Nintendo      Wii\n",
      "3            Sports     15.75    Nintendo      Wii\n",
      "4      Role-Playing     11.27    Nintendo       GB\n",
      "...             ...       ...         ...      ...\n",
      "16593      Platform      0.01       Kemco      GBA\n",
      "16594       Shooter      0.01  Infogrames       GC\n",
      "16595        Racing      0.00  Activision      PS2\n",
      "16596        Puzzle      0.00    7G//AMES       DS\n",
      "16597      Platform      0.01     Wanadoo      GBA\n",
      "\n",
      "[16291 rows x 4 columns]\n"
     ]
    }
   ],
   "source": [
    "#From the analysis, I should sell Action game in the US. Now let's find out \n",
    "game5 = game_revenue[[\"Genre\",\"NA_Sales\",\"Publisher\",\"Platform\"]]\n",
    "print(game5)"
   ]
  },
  {
   "cell_type": "code",
   "execution_count": 97,
   "id": "7ffcd0b4",
   "metadata": {},
   "outputs": [
    {
     "name": "stdout",
     "output_type": "stream",
     "text": [
      "        Genre  NA_Sales                  Publisher Platform\n",
      "16     Action      7.01       Take-Two Interactive      PS3\n",
      "17     Action      9.43       Take-Two Interactive      PS2\n",
      "23     Action      9.63       Take-Two Interactive     X360\n",
      "24     Action      8.41       Take-Two Interactive      PS2\n",
      "38     Action      6.99       Take-Two Interactive      PS2\n",
      "...       ...       ...                        ...      ...\n",
      "16564  Action      0.01  Destination Software, Inc       DS\n",
      "16567  Action      0.00         Namco Bandai Games      3DS\n",
      "16582  Action      0.01                      Titus      GBA\n",
      "16583  Action      0.01         Virgin Interactive      N64\n",
      "16589  Action      0.00            dramatic create      PSV\n",
      "\n",
      "[3251 rows x 4 columns]\n"
     ]
    }
   ],
   "source": [
    "game6= game5[game5[\"Genre\"] == \"Action\"]\n",
    "print(game6)"
   ]
  },
  {
   "cell_type": "code",
   "execution_count": 100,
   "id": "80618f48",
   "metadata": {
    "scrolled": true
   },
   "outputs": [
    {
     "data": {
      "image/png": "[encoded data removed]",
      "text/plain": [
       "<Figure size 432x288 with 1 Axes>"
      ]
     },
     "metadata": {
      "needs_background": "light"
     },
     "output_type": "display_data"
    }
   ],
   "source": [
    "game7 = game6.groupby(\"Platform\")[\"NA_Sales\"].agg(sum)\n",
    "game7.plot(kind = \"barh\")\n",
    "plt.xlabel(\"Sales (millon)\")\n",
    "plt.ylabel(\"Platform\")\n",
    "plt.title(\"NA sales by Platform\")\n",
    "plt.show()"
   ]
  },
  {
   "cell_type": "code",
   "execution_count": 79,
   "id": "488a5880",
   "metadata": {},
   "outputs": [],
   "source": [
    "#From the chart, I should sell action game on XB, PS2 and PS3 platform to earn maximize profit. (A)"
   ]
  },
  {
   "cell_type": "code",
   "execution_count": 80,
   "id": "7899808f",
   "metadata": {},
   "outputs": [
    {
     "name": "stdout",
     "output_type": "stream",
     "text": [
      "        Genre  NA_Sales             Publisher Platform\n",
      "0      Sports     41.49              Nintendo      Wii\n",
      "3      Sports     15.75              Nintendo      Wii\n",
      "13     Sports      8.94              Nintendo      Wii\n",
      "14     Sports      9.09              Nintendo      Wii\n",
      "77     Sports      1.11       Electronic Arts      PS4\n",
      "...       ...       ...                   ...      ...\n",
      "16576  Sports      0.00  Alternative Software     XOne\n",
      "16578  Sports      0.01               Mastiff      3DS\n",
      "16579  Sports      0.01            Infogrames      N64\n",
      "16581  Sports      0.00               Unknown      Wii\n",
      "16587  Sports      0.00           Hudson Soft       DS\n",
      "\n",
      "[2346 rows x 4 columns]\n"
     ]
    }
   ],
   "source": [
    "game8= game5[game5[\"Genre\"] == \"Sports\"]\n",
    "print(game8)"
   ]
  },
  {
   "cell_type": "code",
   "execution_count": 99,
   "id": "31b14f06",
   "metadata": {},
   "outputs": [
    {
     "data": {
      "image/png": "[encoded data removed]",
      "text/plain": [
       "<Figure size 432x288 with 1 Axes>"
      ]
     },
     "metadata": {
      "needs_background": "light"
     },
     "output_type": "display_data"
    }
   ],
   "source": [
    "game9 = game8.groupby(\"Platform\")[\"NA_Sales\"].agg(sum)\n",
    "game9.plot(kind = \"barh\")\n",
    "plt.xlabel(\"Sales (millon)\")\n",
    "plt.ylabel(\"Platform\")\n",
    "plt.show()"
   ]
  },
  {
   "cell_type": "code",
   "execution_count": 83,
   "id": "ba07ac59",
   "metadata": {},
   "outputs": [],
   "source": [
    "#From the chart, I should sell sports game on WiiU, X360, PS2 and PS3 platform to earn maximize profit. (B)"
   ]
  },
  {
   "cell_type": "code",
   "execution_count": null,
   "id": "3b44e611",
   "metadata": {},
   "outputs": [],
   "source": [
    "#VI. Conclusion\n",
    "#Finally, From (A) and (B) I thought I found the answer. I should sell action games and sport games in the US \n",
    "#on WiiU, X360, XB, PS2 and PS3 platform."
   ]
  }
 ],
 "metadata": {
  "kernelspec": {
   "display_name": "Python 3",
   "language": "python",
   "name": "python3"
  },
  "language_info": {
   "codemirror_mode": {
    "name": "ipython",
    "version": 3
   },
   "file_extension": ".py",
   "mimetype": "text/x-python",
   "name": "python",
   "nbconvert_exporter": "python",
   "pygments_lexer": "ipython3",
   "version": "3.8.8"
  }
 },
 "nbformat": 4,
 "nbformat_minor": 5
}
